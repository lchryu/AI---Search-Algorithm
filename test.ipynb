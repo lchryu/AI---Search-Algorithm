{
 "cells": [
  {
   "cell_type": "code",
   "execution_count": 1,
   "metadata": {
    "ExecuteTime": {
     "end_time": "2024-10-18T14:14:25.916545Z",
     "start_time": "2024-10-18T14:14:25.439034Z"
    }
   },
   "outputs": [
    {
     "data": {
      "image/png": "[encoded data removed]",
      "text/plain": [
       "<Figure size 1000x500 with 1 Axes>"
      ]
     },
     "metadata": {},
     "output_type": "display_data"
    }
   ],
   "source": [
    "# vẽ lưới\n",
    "import matplotlib.pyplot as plt\n",
    "import matplotlib.patches as patches\n",
    "\n",
    "# Hàm đọc dữ liệu từ file\n",
    "def load_data(filename):\n",
    "    with open(filename, 'r') as file:\n",
    "        lines = file.readlines()\n",
    "    grid_size = eval(lines[0].strip())  # [rows, columns]\n",
    "    start = eval(lines[1].strip())  # Vị trí bắt đầu\n",
    "    goals = [eval(g.strip()) for g in lines[2].split('|')]  # Các vị trí đích\n",
    "    walls = [eval(w.strip()) for w in lines[3:]]  # Các bức tường\n",
    "    return grid_size, start, goals, walls\n",
    "\n",
    "# Hàm vẽ lưới dựa trên dữ liệu đã đọc\n",
    "def draw_grid(grid_size, start, goals, walls):\n",
    "    rows, cols = grid_size\n",
    "    fig, ax = plt.subplots(figsize=(10, 5))\n",
    "    \n",
    "    # Vẽ lưới\n",
    "    for row in range(rows):\n",
    "        for col in range(cols):\n",
    "            rect = patches.Rectangle((col, row), 1, 1, edgecolor='black', facecolor='white')\n",
    "            ax.add_patch(rect)\n",
    "\n",
    "    # Vẽ tường\n",
    "    for wall in walls:\n",
    "        x, y, w, h = wall\n",
    "        rect = patches.Rectangle((y, x), w, h, edgecolor='black', facecolor='gray')\n",
    "        ax.add_patch(rect)\n",
    "\n",
    "    # Vẽ vị trí bắt đầu (robot)\n",
    "    ax.add_patch(patches.Rectangle((start[1], start[0]), 1, 1, edgecolor='black', facecolor='red'))\n",
    "\n",
    "    # Vẽ các vị trí đích (goals)\n",
    "    for goal in goals:\n",
    "        ax.add_patch(patches.Rectangle((goal[1], goal[0]), 1, 1, edgecolor='black', facecolor='green'))\n",
    "\n",
    "    # Cài đặt trục\n",
    "    ax.set_xlim(0, cols)\n",
    "    ax.set_ylim(0, rows)\n",
    "    ax.set_xticks(range(cols))\n",
    "    ax.set_yticks(range(rows))\n",
    "    ax.set_xticklabels(range(cols))\n",
    "    ax.set_yticklabels(range(rows))\n",
    "    plt.gca().invert_yaxis()\n",
    "    plt.grid(True)\n",
    "    plt.show()\n",
    "\n",
    "# Đọc dữ liệu từ file và vẽ\n",
    "filename = 'RobotNav-test.txt'  # Thay bằng đường dẫn đến file của bạn\n",
    "grid_size, start, goals, walls = load_data(filename)\n",
    "draw_grid(grid_size, start, goals, walls)\n"
   ]
  }
 ],
 "metadata": {
  "kernelspec": {
   "display_name": ".venv",
   "language": "python",
   "name": "python3"
  },
  "language_info": {
   "codemirror_mode": {
    "name": "ipython",
    "version": 3
   },
   "file_extension": ".py",
   "mimetype": "text/x-python",
   "name": "python",
   "nbconvert_exporter": "python",
   "pygments_lexer": "ipython3",
   "version": "3.12.4"
  }
 },
 "nbformat": 4,
 "nbformat_minor": 2
}
